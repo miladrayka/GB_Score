{
 "cells": [
  {
   "cell_type": "markdown",
   "id": "43faae73",
   "metadata": {},
   "source": [
    "Modules:  \n",
    "\n",
    "python (3.8.8)\n",
    "\n",
    "numpy (1.21.2)\n",
    "\n",
    "pandas (1.2.4)\n",
    "\n",
    "seaborn (0.11.1)\n",
    "\n",
    "joblib (1.0.1)\n",
    "\n",
    "matplotlib (3.3.4)\n",
    "\n",
    "biopandas (0.2.8)\n",
    "\n",
    "scipy (1.7.1)\n",
    "\n",
    "sklearn (0.24.1)\n",
    "\n",
    "progressbar (3.53.1)"
   ]
  },
  {
   "cell_type": "code",
   "execution_count": 3,
   "id": "427f23a9",
   "metadata": {},
   "outputs": [],
   "source": [
    "import progressbar\n"
   ]
  },
  {
   "cell_type": "code",
   "execution_count": 49,
   "id": "49c717ea",
   "metadata": {},
   "outputs": [],
   "source": [
    "import os\n",
    "import sys\n",
    "from glob import glob\n",
    "from pathlib import Path\n",
    "from shutil import copyfile\n",
    "\n",
    "import numpy as np\n",
    "import pandas as pd\n",
    "import seaborn as sns\n",
    "from joblib import dump, load\n",
    "import matplotlib.pyplot as plt\n",
    "from biopandas.pdb import PandasPdb\n",
    "from biopandas.mol2 import PandasMol2\n",
    "from scipy.stats import pearsonr, spearmanr, kendalltau\n",
    "from sklearn.metrics import mean_squared_error\n",
    "from sklearn.inspection import permutation_importance\n",
    "from sklearn.model_selection import StratifiedShuffleSplit, KFold\n",
    "from sklearn.ensemble import RandomForestRegressor, ExtraTreesRegressor, GradientBoostingRegressor \n",
    "\n",
    "import generate_features"
   ]
  },
  {
   "cell_type": "code",
   "execution_count": 2,
   "id": "0933a120",
   "metadata": {},
   "outputs": [],
   "source": [
    "pre_path = '.\\files\\'\n",
    "\n",
    "path_refined_2016_target = pre_path + \"refined_set_binding_data_2016.csv\"\n",
    "path_general_2016_target = pre_path + \"general_set_binding_data_2016.csv\"\n",
    "path_refined_2019_target = pre_path + \"refined_set_binding_data_2019.csv\"\n",
    "path_general_2019_target = pre_path + \"general_set_binding_data_2019.csv\"\n",
    "path_refined_2016_data = pre_path + \"refined_set_2016.csv\"\n",
    "path_general_2016_data = pre_path + \"general_set_2016.csv\"\n",
    "path_total_set_2016_data = pre_path + \"total_set_2016.csv\"\n",
    "path_refined_2019_data = pre_path + \"refined_set_2019.csv\"\n",
    "path_general_2019_data = pre_path + \"general_set_2019.csv\"\n",
    "path_total_set_2019_data = pre_path + \"total_set_2019.csv\"\n",
    "path_core_set_2016_id = pre_path + \"casf_core_set_2016.csv\"\n",
    "path_core_set_2016_cluster = pre_path + \"CoreSet.dat\"\n",
    "path_truncated_set_80 = pre_path + \"train_set_2016_080.csv\"\n",
    "path_truncated_set_85 = pre_path + \"train_set_2016_085.csv\"\n",
    "path_truncated_set_90 = pre_path + \"train_set_2016_090.csv\"\n",
    "path_truncated_set_95 = pre_path + \"train_set_2016_095.csv\"\n",
    "path_car = pre_path + \"Carbonic anhydrase.csv\"\n",
    "path_hiv = pre_path + \"HIV-1 Protease.csv\"\n",
    "path_try = pre_path + \"Trypsin.csv\"\n",
    "path_saved_model = ".\saved_model\\"gb_score.joblib\"\n"
   ]
  },
  {
   "cell_type": "markdown",
   "id": "af5906e2",
   "metadata": {},
   "source": [
    "# 1-Functions"
   ]
  },
  {
   "cell_type": "code",
   "execution_count": 3,
   "id": "e7540d87",
   "metadata": {},
   "outputs": [],
   "source": [
    "sns.set_style(\"darkgrid\")"
   ]
  },
  {
   "cell_type": "code",
   "execution_count": 4,
   "id": "b6866814",
   "metadata": {},
   "outputs": [],
   "source": [
    "#All functions due to preparing data.\n",
    "\n",
    "#---------------------------------------------------\n",
    "#read csv files of features and target values and return pd.DataFrame\n",
    "#for both.\n",
    "\n",
    "def input_reader(path_input, path_target):\n",
    "    \n",
    "    X = pd.read_csv(path_input, index_col=0)\n",
    "\n",
    "    Y = pd.read_csv(path_target, index_col='pdbid')\n",
    "    Y = Y.drop(labels=['Unnamed: 0'], axis=1)\n",
    "    Y = Y.reindex(X.index)\n",
    "\n",
    "    return X, Y\n",
    "\n",
    "#---------------------------------------------------\n",
    "#preprocess features input pd.DataFrame and drop static, quasi-static and \n",
    "#correlated features. Return processed pd.DataFrame, mean and std of data.\n",
    "\n",
    "def preprocessing(data, var_threshold=0.01, corr_threshold=0.95):\n",
    "\n",
    "    data = data.loc[:, data.var(axis=0) > var_threshold]\n",
    "\n",
    "    corr_matrix = data.corr().abs()\n",
    "    upper = corr_matrix.where(np.triu(np.ones(corr_matrix.shape), k=1).astype(bool))\n",
    "    to_drop = [column for column in upper.columns if any(upper[column] > corr_threshold)]\n",
    "    data = data.drop(to_drop, axis=1)\n",
    "    \n",
    "    mean = data.mean()\n",
    "    std = data.std()\n",
    "    data = (data - mean) / std\n",
    "\n",
    "    return data, mean, std\n",
    "\n",
    "#---------------------------------------------------\n",
    "#using \"core set id\" to splitted data to train and test set.\n",
    "#Return dictionary contains train and test set features and targets.\n",
    "\n",
    "def data_spliter(data, core_set_id, val_set_size=0):\n",
    "\n",
    "    test_set = data.loc[core_set_id, :]\n",
    "    train_set = data.drop(core_set_id, axis=0)\n",
    "    \n",
    "    if val_set_size:\n",
    "        \n",
    "        train_set['ba_cat'] = np.ceil(train_set['binding_affinity']/1.5)\n",
    "        train_set['ba_cat'].where(train_set['ba_cat'] < 8, 8, inplace=True)\n",
    "\n",
    "        split = StratifiedShuffleSplit(n_splits=10, test_size=val_set_size, random_state=42)\n",
    "\n",
    "        for train_index, val_index in split.split(train_set, train_set['ba_cat']):\n",
    "        \n",
    "            strat_train_set = train_set.iloc[list(train_index), :]\n",
    "            strat_val_set = train_set.iloc[list(val_index), :]\n",
    "  \n",
    "        strat_train_set.drop(['ba_cat'], axis=1, inplace=True)\n",
    "        strat_val_set.drop(['ba_cat'], axis=1, inplace=True)\n",
    "\n",
    "        x_train = strat_train_set.iloc[:, :-1]\n",
    "        y_train = strat_train_set.iloc[:, -1]\n",
    "        x_val = strat_val_set.iloc[:, :-1]\n",
    "        y_val = strat_val_set.iloc[:, -1]\n",
    "        x_test = test_set.iloc[:, :-1]\n",
    "        y_test = test_set.iloc[:, -1]\n",
    "\n",
    "        sets = {\"x_train\": x_train, \n",
    "                \"y_train\": y_train, \n",
    "                \"x_val\": x_val, \n",
    "                \"y_val\": y_val, \n",
    "                \"x_test\": x_test, \n",
    "                \"y_test\": y_test}\n",
    "    else:\n",
    "        \n",
    "        x_train = train_set.iloc[:, :-1]\n",
    "        y_train = train_set.iloc[:, -1]\n",
    "        x_test = test_set.iloc[:, :-1]\n",
    "        y_test = test_set.iloc[:, -1]\n",
    "        \n",
    "        sets = {\"x_train\": x_train,\n",
    "                \"y_train\": y_train,\n",
    "                \"x_test\": x_test,\n",
    "                \"y_test\": y_test}\n",
    "        \n",
    "    return sets\n",
    "\n",
    "#---------------------------------------------------\n",
    "#straightforwarding reading, preprocessing and splitting data.\n",
    "\n",
    "def data_creator(path_x, \n",
    "                 path_y,\n",
    "                 path_test_id,\n",
    "                 var_threshold=0.01, \n",
    "                 corr_threshold=0.95, \n",
    "                 val_set_size=0):\n",
    "    \n",
    "    X, Y = input_reader(path_x, path_y)\n",
    "    X, mean, std = preprocessing(X, var_threshold=0.01, corr_threshold=0.95)\n",
    "        \n",
    "    data = pd.concat([X, Y], axis=1)\n",
    "    \n",
    "    index_id = list(pd.read_csv(path_test_id)['pdbid'])\n",
    "    \n",
    "    splited_data = data_spliter(data, index_id, val_set_size=0)\n",
    "    \n",
    "    return splited_data\n",
    "    "
   ]
  },
  {
   "cell_type": "code",
   "execution_count": 5,
   "id": "4d9e985f",
   "metadata": {},
   "outputs": [],
   "source": [
    "#All functions due to hyperparameters optimization and training ML models.\n",
    "\n",
    "#---------------------------------------------------\n",
    "#Optimize max_features hyperparameters for RF and ET, hyperparameters of GBT\n",
    "#set as the following paper: https://doi.org/10.1093/bioinformatics/btaa982\n",
    "\n",
    "class hyperpara_optim(object):\n",
    "    \n",
    "    '''Max features hyperparameters optimization for RF and ET'''\n",
    "    \n",
    "    def __init__(self, data):\n",
    "        \n",
    "        self.data = data\n",
    "        \n",
    "    def extra_trees(self, n_jobs=-1):\n",
    "        \n",
    "        \n",
    "        oob_scores = []\n",
    "\n",
    "        for i in range(2, int(self.data['x_train'].shape[1]) + 1):\n",
    "\n",
    "            et_reg = ExtraTreesRegressor(n_estimators = 500, max_features = i, random_state = 42\n",
    "                                         ,bootstrap = True, oob_score = True, n_jobs = n_jobs)\n",
    "\n",
    "            et_reg.fit(self.data['x_train'], self.data['y_train'])\n",
    "\n",
    "            oob_scores.append(et_reg.oob_score_)\n",
    "\n",
    "        best_max_features = np.argmax(oob_scores) + 1\n",
    "\n",
    "        print(f\"Best max features (ET): {best_max_features}\")\n",
    "        print('\\n')\n",
    "        \n",
    "        return best_max_features\n",
    "    \n",
    "    def random_forest(self, n_jobs=-1):\n",
    "        \n",
    "        oob_scores = []\n",
    "\n",
    "        for i in range(2, int(self.data['x_train'].shape[1]) + 1):\n",
    "\n",
    "            rf_reg = RandomForestRegressor(n_estimators = 500, max_features = i, random_state = 42\n",
    "                                           ,bootstrap = True, oob_score = True, n_jobs = n_jobs)\n",
    "\n",
    "            rf_reg.fit(self.data['x_train'], self.data['y_train'])\n",
    "\n",
    "            oob_scores.append(rf_reg.oob_score_)\n",
    "\n",
    "        best_max_features = np.argmax(oob_scores) + 1\n",
    "\n",
    "        print(f\"Best max features (RF): {best_max_features}\")\n",
    "        print('\\n')\n",
    "        \n",
    "        return best_max_features\n",
    "\n",
    "#---------------------------------------------------\n",
    "#Train RF, ET and GBT models and evaluate them on core set 2016 data.\n",
    "#Return performance of models based on Rp and RMSE.\n",
    "        \n",
    "class multiple_evaluation(object):\n",
    "    \n",
    "    def __init__(self, run, data):\n",
    "        \n",
    "        self.run = run\n",
    "        self.data = data\n",
    "        \n",
    "    def evaluation(self, estimator):\n",
    "        \n",
    "        pearson_list = []\n",
    "        rmse_list = []\n",
    "    \n",
    "        for _ in range(self.run):\n",
    "            \n",
    "            reg = estimator\n",
    "\n",
    "            reg.fit(self.data['x_train'], self.data['y_train'])\n",
    "            y_pred = reg.predict(self.data['x_test'])\n",
    "        \n",
    "            pearson_list.append(pearsonr(self.data['y_test'], y_pred)[0])\n",
    "            rmse_list.append(np.sqrt(mean_squared_error(self.data['y_test'], y_pred)))\n",
    "        \n",
    "        print('RF')\n",
    "        print(f\"Pearson : {np.mean(pearson_list):.3f} +/- {np.std(pearson_list):.3f}\")\n",
    "        print(f\"RMSE : {np.mean(rmse_list):.3f} +/- {np.std(rmse_list):.3f}\")\n",
    "        print('\\n')\n",
    "        \n",
    "        \n",
    "    def random_forest(self, mf):\n",
    "        \n",
    "        estimator = RandomForestRegressor(n_estimators = 500, max_features = mf,\n",
    "                                              n_jobs = -1, oob_score=True, \n",
    "                                              bootstrap = True)\n",
    "        \n",
    "        self.evaluation(estimator)\n",
    "        \n",
    "    def extra_trees(self, mf):\n",
    "        \n",
    "        self.evaluation(ExtraTreesRegressor(n_estimators = 500, max_features = mf,\n",
    "                                            n_jobs = -1, oob_score=True, \n",
    "                                            bootstrap = True))\n",
    "        \n",
    "    def gradient_booting(self):\n",
    "        \n",
    "        self.evaluation(GradientBoostingRegressor(n_estimators=20000, \n",
    "                                                 max_depth=8,\n",
    "                                                 learning_rate=0.005,\n",
    "                                                 loss='ls',\n",
    "                                                 subsample=0.7,\n",
    "                                                 max_features='sqrt'))"
   ]
  },
  {
   "cell_type": "code",
   "execution_count": 38,
   "id": "d331ebe5",
   "metadata": {},
   "outputs": [],
   "source": [
    "#All functions due to plotting figures.\n",
    "\n",
    "#-------------------------------------------------\n",
    "#Plot correlation figure (y_true vs y_pred) and saved it to a path.\n",
    "\n",
    "def correlation_plot(y_true, y_pred, path):\n",
    "\n",
    "    ax = sns.jointplot(x=y_true, y=y_pred, \n",
    "                       xlim=(0, 13),\n",
    "                       ylim=(0, 13),\n",
    "                       facecolor='mediumseagreen',\n",
    "                       edgecolor='black', \n",
    "                       marginal_kws={'color': 'forestgreen',\n",
    "                                    'bins': 12},\n",
    "                       height=6.5,\n",
    "                       s=60)\n",
    "    \n",
    "    ax.set_axis_labels('Experimental', 'Predicted', fontsize=13)\n",
    "    ax.fig.suptitle(\"Test set $R_{P}$ = 0.862, $RMSE$ = 1.190\", fontsize=14)\n",
    "    ax.fig.tight_layout()\n",
    "    ax.fig.subplots_adjust(top=0.9)\n",
    "  \n",
    "    plt.savefig(path + 'correlation_plot.png', dpi=300)\n",
    "    plt.show()\n",
    "    \n",
    "#------------------------------------------------\n",
    "#Plot learning curve \n",
    "\n",
    "def learning_curve_plot(performance_list1, \n",
    "                        performance_list2, \n",
    "                        fraction_list,\n",
    "                        pre_path):\n",
    "\n",
    "    fig, (ax1, ax2) = plt.subplots(1, 2)\n",
    "\n",
    "    fig.set_figheight(6)\n",
    "    fig.set_figwidth(12)\n",
    "\n",
    "    ax1.plot(fraction_list, performance_list1, color='orangered')\n",
    "    ax1.set_xlabel('Fraction (%)', fontsize=13)\n",
    "    ax1.set_ylabel('$R_{p}$', fontsize=13)\n",
    "    ax1.set_title(label='$R_{p}$ performance', size=15)\n",
    "    ax1.grid(True, ls='--')\n",
    "\n",
    "    ax2.plot(fraction_list, performance_list2, color='deepskyblue')\n",
    "    ax2.set_xlabel('Fraction (%)', fontsize=13)\n",
    "    ax2.set_ylabel('RMSE', fontsize=13)\n",
    "    ax2.set_title(label='$RMSE$ performance', size=15)\n",
    "    ax2.grid(True, ls='--')\n",
    "\n",
    "    plt.savefig(pre_path + 'learning_curve.png', dpi=300)\n",
    "    plt.show()\n",
    "\n",
    "#----------------------------------------------\n",
    "#Plot bar chart \n",
    "    \n",
    "def bar_chart(input, colormap, xlabel, filename):\n",
    "\n",
    "    my_cmap = plt.cm.get_cmap(colormap)\n",
    "    plt.figure(figsize=(6, 10))\n",
    "    plt.barh(range(len(input) + 1, 1, -1), np.array(input)[:, 1], color=my_cmap(range(1, (len(input) + 1) * 4, 4)))\n",
    "    plt.yticks(range(len(input) + 1, 1, -1), np.array(input, dtype=int)[:, 0], fontsize=10)\n",
    "    plt.xlabel(xlabel, fontsize=12)\n",
    "    plt.ylabel('Target Cluster ID', fontsize=12)\n",
    "    plt.tight_layout()\n",
    "\n",
    "    plt.savefig(filename, dpi=300)\n",
    "    plt.show()\n",
    "#-----------------------------------------------\n",
    "#Plot barchart for ligand and protein feature importances.\n",
    "    \n",
    "def barchat_importance_plot(ligand_atoms_imp, \n",
    "                            protein_atoms_imp, \n",
    "                            atom_types, \n",
    "                            pre_path):\n",
    "    \n",
    "    plt.figure(figsize=(10, 8))\n",
    "    plt.barh(atom_types, -1 * np.array(ligand_atoms_imp), label = \"Ligand\", color='limegreen')\n",
    "    plt.barh(atom_types, protein_atoms_imp, label = \"Protein\", color='crimson')\n",
    "    plt.legend()\n",
    "    plt.xlim(-40, 40)\n",
    "    plt.ylabel('Atom Types', fontsize=12)\n",
    "    plt.xlabel('Sum Permutation Importance (%)', fontsize=12)\n",
    "    plt.savefig(pre_path + \"barchart_importance.png\", dpi=300)\n",
    "    plt.show()\n",
    "    \n",
    "#-----------------------------------------------\n",
    "#Plot comparison performance\n",
    "\n",
    "def comparison_plot(sf_names, sf_values, pre_path, colors):\n",
    "    \n",
    "    plt.figure(figsize=(12, 8))\n",
    "    plt.bar(sf_names, sf_values, color=colors)\n",
    "    plt.xlabel('Scoring Function', fontsize=15)\n",
    "    plt.ylabel('$R_{p}$', fontsize=15)\n",
    "    plt.title(\"Performance Comparison\", fontsize=18)\n",
    "    plt.xticks(fontsize=12, rotation=45)\n",
    "    plt.yticks(fontsize=14)\n",
    "    plt.tight_layout()\n",
    "    plt.savefig(pre_path + \"Performance_comparison.png\", dpi=300)\n",
    "    plt.show()"
   ]
  },
  {
   "cell_type": "code",
   "execution_count": 7,
   "id": "20d60156",
   "metadata": {},
   "outputs": [],
   "source": [
    "#Some utility functions.\n",
    "\n",
    "#--------------------------------------------\n",
    "#Extract data from refined 2016 respect to defined similarity.\n",
    "\n",
    "def ood_data(splited_data, path_id_csv):\n",
    "    \n",
    "    index_df = pd.read_csv(path_id_csv)\n",
    "    truncated_df_x = splited_data['x_train'].loc[index_df.loc[:, '0'], :]\n",
    "    \n",
    "    y_train = refined_data_2016['y_train'].to_frame()\n",
    "    truncated_df_y = y_train.loc[index_df.loc[:, '0'], :]\n",
    "    \n",
    "    truncated_data = {'x_train': truncated_df_x, \n",
    "                  'y_train': truncated_df_y.iloc[:, 0], \n",
    "                  'x_test': refined_data_2016['x_test'],\n",
    "                  'y_test': refined_data_2016['y_test']}\n",
    "    \n",
    "    return truncated_data\n",
    "\n",
    "#-------------------------------------------\n",
    "#Evaluation performance of ML models.\n",
    "\n",
    "def ood_check(splited_data, path_id_csv, run):\n",
    "    \n",
    "    trun_data = ood_data(splited_data, path_id_csv)\n",
    "    \n",
    "    optim = hyperpara_optim(trun_data)\n",
    "    mf_et = optim.extra_trees()\n",
    "    mf_rf = optim.random_forest()\n",
    "    \n",
    "    evaluate = multiple_evaluation(run, trun_data)\n",
    "    evaluate.extra_trees(mf_et)\n",
    "    evaluate.random_forest(mf_rf)\n",
    "    evaluate.gradient_booting()\n",
    "    \n",
    "#--------------------------------------------\n",
    "#Return performance for each family cluster of core set 2016.\n",
    "\n",
    "def pcc_rmse_core_set_cluster(model, pdbid_list):\n",
    "\n",
    "    x_cluster = np.array([total_data_2019['x_test'].loc[key, :] for key in pdbid_list])\n",
    "    y_cluster = total_data_2019['y_test'][pdbid_list]\n",
    "\n",
    "    y_cluster_pred = model.predict(x_cluster)\n",
    "\n",
    "    pcc_cluster = pearsonr(y_cluster.ravel(),y_cluster_pred.ravel())[0]\n",
    "    rmse_cluster = np.sqrt(mean_squared_error(y_cluster.ravel(),y_cluster_pred.ravel()))\n",
    "\n",
    "    return pcc_cluster, rmse_cluster \n",
    "\n",
    "\n"
   ]
  },
  {
   "cell_type": "markdown",
   "id": "a37ad037",
   "metadata": {},
   "source": [
    "# 2-Analysis"
   ]
  },
  {
   "cell_type": "markdown",
   "id": "ec8f1979",
   "metadata": {},
   "source": [
    "## 2-1 PDBbind 2016"
   ]
  },
  {
   "cell_type": "markdown",
   "id": "947cad82",
   "metadata": {},
   "source": [
    "### 2-1-1 Refined set"
   ]
  },
  {
   "cell_type": "code",
   "execution_count": null,
   "id": "e4d2dfc9",
   "metadata": {},
   "outputs": [],
   "source": [
    "#Loading refined set 2016 data.\n",
    "\n",
    "refined_data_2016 = data_creator(path_refined_2016_data,\n",
    "                                 path_refined_2016_target,\n",
    "                                 path_core_set_2016_id)"
   ]
  },
  {
   "cell_type": "code",
   "execution_count": null,
   "id": "50958e38",
   "metadata": {},
   "outputs": [],
   "source": [
    "#Optimize max_features for RF and ET.\n",
    "\n",
    "optim = hyperpara_optim(refined_data_2016)\n",
    "optim.extra_trees()\n",
    "optim.random_forest()"
   ]
  },
  {
   "cell_type": "code",
   "execution_count": null,
   "id": "1504e749",
   "metadata": {},
   "outputs": [],
   "source": [
    "#Evalution of RF, ET and GBT.\n",
    "\n",
    "evaluate = multiple_evaluation(10, refined_data_2016)\n",
    "evaluate.extra_trees(80)\n",
    "evaluate.random_forest(50)\n",
    "evaluate.gradient_booting()"
   ]
  },
  {
   "cell_type": "markdown",
   "id": "b30724c3",
   "metadata": {},
   "source": [
    "**Results**\n",
    "\n",
    "**Refined set 2016**\n",
    "\n",
    "*Max Features:*\n",
    "\n",
    "*ET* - 80\n",
    "\n",
    "*RF* - 50\n",
    "\n",
    "*Performance:*\n",
    "\n",
    "*ET* \n",
    "\n",
    "Rp - 0.825 +/- 0.001\n",
    "\n",
    "RMSE - 1.344 +/- 0.002\n",
    "\n",
    "*RF* \n",
    "\n",
    "Rp - 0.820 +/- 0.002\n",
    "\n",
    "RMSE - 1.353 +/- 0.003\n",
    "\n",
    "*GBT* \n",
    "\n",
    "Rp - 0.838 +/- 0.002\n",
    "\n",
    "RMSE - 1.263 +/- 0.004"
   ]
  },
  {
   "cell_type": "markdown",
   "id": "448cce32",
   "metadata": {},
   "source": [
    "### 2-1-2 General set"
   ]
  },
  {
   "cell_type": "code",
   "execution_count": null,
   "id": "77eccfae",
   "metadata": {},
   "outputs": [],
   "source": [
    "#Loading genral_set + refined set 2016 data.\n",
    "\n",
    "total_data_2016 = data_creator(path_total_set_2016_data,\n",
    "                               path_general_2016_target,\n",
    "                               path_core_set_2016_id)"
   ]
  },
  {
   "cell_type": "code",
   "execution_count": null,
   "id": "9093c739",
   "metadata": {},
   "outputs": [],
   "source": [
    "#Optimize max_features for RF and ET.\n",
    "\n",
    "optim = hyperpara_optim(total_data_2016)\n",
    "optim.extra_trees()\n",
    "optim.random_forest()"
   ]
  },
  {
   "cell_type": "code",
   "execution_count": null,
   "id": "78810fea",
   "metadata": {},
   "outputs": [],
   "source": [
    "#Evalution of RF, ET and GBT.\n",
    "\n",
    "evaluate = multiple_evaluation(10, total_data_2016)\n",
    "evaluate.extra_trees(93)\n",
    "evaluate.random_forest(22)\n",
    "evaluate.gradient_booting()"
   ]
  },
  {
   "cell_type": "markdown",
   "id": "7b945dfd",
   "metadata": {},
   "source": [
    "**Results**\n",
    "\n",
    "**General set 2016**\n",
    "\n",
    "*Max Features:*\n",
    "\n",
    "*ET* - 93\n",
    "\n",
    "*RF* - 22\n",
    "\n",
    "*Performance:*\n",
    "\n",
    "*ET* \n",
    "\n",
    "Rp - 0.852 +/- 0.001\n",
    "\n",
    "RMSE - 1.287 +/- 0.003\n",
    "\n",
    "*RF* \n",
    "\n",
    "Rp - 0.850 +/- 0.001\n",
    "\n",
    "RMSE - 1.297 +/- 0.004\n",
    "\n",
    "*GBT* \n",
    "\n",
    "Rp - 0.858 +/- 0.002\n",
    "\n",
    "RMSE - 1.203 +/- 0.006"
   ]
  },
  {
   "cell_type": "markdown",
   "id": "4a7ecf8f",
   "metadata": {},
   "source": [
    "## 2-2 PDBbind 2019"
   ]
  },
  {
   "cell_type": "markdown",
   "id": "ba451507",
   "metadata": {},
   "source": [
    "### 2-2-1 General set"
   ]
  },
  {
   "cell_type": "code",
   "execution_count": null,
   "id": "bcb04f7e",
   "metadata": {},
   "outputs": [],
   "source": [
    "#Loading genral_set + refined set 2019 data.\n",
    "\n",
    "total_data_2019 = data_creator(path_total_set_2019_data,\n",
    "                               path_general_2019_target,\n",
    "                               path_core_set_2016_id)"
   ]
  },
  {
   "cell_type": "code",
   "execution_count": null,
   "id": "9544fd4b",
   "metadata": {},
   "outputs": [],
   "source": [
    "#Optimize max_features for RF and ET.\n",
    "\n",
    "optim = hyperpara_optim(total_data_2019)\n",
    "optim.extra_trees()\n",
    "optim.random_forest()"
   ]
  },
  {
   "cell_type": "code",
   "execution_count": null,
   "id": "11512786",
   "metadata": {},
   "outputs": [],
   "source": [
    "#Evalution of RF, ET and GBT.\n",
    "\n",
    "evaluate = multiple_evaluation(10, total_data_2019)\n",
    "evaluate.extra_trees(92)\n",
    "evaluate.random_forest(35)\n",
    "evaluate.gradient_booting()"
   ]
  },
  {
   "cell_type": "markdown",
   "id": "1532a701",
   "metadata": {},
   "source": [
    "**Results**\n",
    "\n",
    "**General set 2019**\n",
    "\n",
    "*Max Features:*\n",
    "\n",
    "*ET* - 92\n",
    "\n",
    "*RF* - 35\n",
    "\n",
    "*Performance:*\n",
    "\n",
    "*ET* \n",
    "\n",
    "Rp - 0.852 +/- 0.001\n",
    "\n",
    "RMSE - 1.287 +/- 0.004\n",
    "\n",
    "*RF* \n",
    "\n",
    "Rp - 0.852 +/- 0.001\n",
    "\n",
    "RMSE - 1.289 +/- 0.002\n",
    "\n",
    "*GBT* \n",
    "\n",
    "Rp - 0.862 +/- 0.001\n",
    "\n",
    "RMSE - 1.190 +/- 0.004"
   ]
  },
  {
   "cell_type": "markdown",
   "id": "006ff5ba",
   "metadata": {},
   "source": [
    "## 2-3 Correlation Plot"
   ]
  },
  {
   "cell_type": "code",
   "execution_count": 8,
   "id": "533dafcb",
   "metadata": {},
   "outputs": [],
   "source": [
    "#Loading general_set + refined set 2019 data.\n",
    "\n",
    "total_data_2019 = data_creator(path_total_set_2019_data,\n",
    "                               path_general_2019_target,\n",
    "                               path_core_set_2016_id)"
   ]
  },
  {
   "cell_type": "code",
   "execution_count": 9,
   "id": "3cd5c4b3",
   "metadata": {},
   "outputs": [],
   "source": [
    "#Loading best model (gb_score)\n",
    "\n",
    "gb_reg = load(path_saved_model)"
   ]
  },
  {
   "cell_type": "code",
   "execution_count": 10,
   "id": "85d0a6c8",
   "metadata": {},
   "outputs": [],
   "source": [
    "y_pred = gb_reg.predict(total_data_2019['x_test'])\n",
    "y_true = total_data_2019['y_test']"
   ]
  },
  {
   "cell_type": "code",
   "execution_count": 39,
   "id": "3aacb255",
   "metadata": {},
   "outputs": [
    {
     "data": {
      "image/png": "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\n",
      "text/plain": [
       "<Figure size 468x468 with 3 Axes>"
      ]
     },
     "metadata": {},
     "output_type": "display_data"
    }
   ],
   "source": [
    "#Correlation plot\n",
    "\n",
    "correlation_plot(y_true, y_pred, pre_path)"
   ]
  },
  {
   "cell_type": "markdown",
   "id": "bd61acdb",
   "metadata": {},
   "source": [
    "## 2-4 Cross-Validation (General set 2019)"
   ]
  },
  {
   "cell_type": "code",
   "execution_count": null,
   "id": "8b2955a4",
   "metadata": {},
   "outputs": [],
   "source": [
    "#Loading general_set + refined set 2019 data.\n",
    "\n",
    "total_data_2019 = data_creator(path_total_set_2019_data,\n",
    "                               path_general_2019_target,\n",
    "                               path_core_set_2016_id)"
   ]
  },
  {
   "cell_type": "code",
   "execution_count": null,
   "id": "45cdf1ae",
   "metadata": {},
   "outputs": [],
   "source": [
    "#Add test set to general set\n",
    "\n",
    "total_data_2019['x_total'] = pd.concat([total_data_2019['x_train'], total_data_2019['x_test']], axis=0)\n",
    "total_data_2019['y_total'] = pd.concat([total_data_2019['y_train'], total_data_2019['y_test']], axis=0)"
   ]
  },
  {
   "cell_type": "code",
   "execution_count": null,
   "id": "07649331",
   "metadata": {},
   "outputs": [],
   "source": [
    "#5-fold cross-validation using general set + core set 2019.\n",
    "\n",
    "pearson_list = []\n",
    "rmse_list = []\n",
    "\n",
    "n = 1\n",
    "\n",
    "kf = KFold(n_splits=5, shuffle=True)\n",
    "\n",
    "for train, test in kf.split(total_data_2019['x_total'], total_data_2019['y_total']):\n",
    "    \n",
    "    print(f\"Fold_{n}\")\n",
    "    \n",
    "    gb_reg = GradientBoostingRegressor(n_estimators=20000, \n",
    "                                       max_depth=8,\n",
    "                                       learning_rate=0.005,\n",
    "                                       loss='ls',\n",
    "                                       subsample=0.7,\n",
    "                                       max_features='sqrt')\n",
    "    \n",
    "    gb_reg.fit(total_data_2019['x_total'].iloc[train, :], total_data_2019['y_total'][train])\n",
    "    \n",
    "    y_pred = gb_reg.predict(total_data_2019['x_total'].iloc[test, :])\n",
    "    \n",
    "    pearson_list.append(pearsonr(total_data_2019['y_total'][test], y_pred)[0])\n",
    "    rmse_list.append(np.sqrt(mean_squared_error(total_data_2019['y_total'][test], y_pred)))\n",
    "    \n",
    "    n += 1\n",
    "    "
   ]
  },
  {
   "cell_type": "markdown",
   "id": "96bd92b7",
   "metadata": {},
   "source": [
    "**Results**\n",
    "\n",
    "Rp - 0.764 +/- 0.001\n",
    "\n",
    "RMSE - 1.205 +/- 0.007"
   ]
  },
  {
   "cell_type": "markdown",
   "id": "302cab25",
   "metadata": {},
   "source": [
    "## 2-5 Out-of-distribution"
   ]
  },
  {
   "cell_type": "code",
   "execution_count": null,
   "id": "12f37aa1",
   "metadata": {},
   "outputs": [],
   "source": [
    "#Loading refined set 2016 data.\n",
    "\n",
    "refined_data_2016 = data_creator(path_refined_2016_data,\n",
    "                                 path_refined_2016_target,\n",
    "                                 path_core_set_2016_id)"
   ]
  },
  {
   "cell_type": "code",
   "execution_count": null,
   "id": "32ed79ec",
   "metadata": {},
   "outputs": [],
   "source": [
    "for item in [path_truncated_set_80, path_truncated_set_85, path_truncated_set_90, path_truncated_set_95]:\n",
    "    \n",
    "    print(f\"Similarity: {item[-6:-4]} %\")\n",
    "    print('-------')\n",
    "    ood_check(refined_data_2016, item, 3)\n",
    "    print('*-------------------------*')"
   ]
  },
  {
   "cell_type": "markdown",
   "id": "4b748b4d",
   "metadata": {},
   "source": [
    "## 2-6 Learning curve (General set 2019)"
   ]
  },
  {
   "cell_type": "code",
   "execution_count": null,
   "id": "d0eaefed",
   "metadata": {},
   "outputs": [],
   "source": [
    "#Loading general_set + refined set 2019 data.\n",
    "\n",
    "total_data_2019 = data_creator(path_total_set_2019_data,\n",
    "                               path_general_2019_target,\n",
    "                               path_core_set_2016_id)"
   ]
  },
  {
   "cell_type": "code",
   "execution_count": null,
   "id": "2bef7da7",
   "metadata": {},
   "outputs": [],
   "source": [
    "#Learing curve of GBScore respect to different fraction of training set.\n",
    "\n",
    "pearson_list = []\n",
    "rmse_list = []\n",
    "\n",
    "for percent in [0.05, 0.1, 0.25, 0.40, 0.55, 0.70, 0.85, 1]:\n",
    "    \n",
    "    print(f\"{int(percent * 100.)}% of training set\")\n",
    "    \n",
    "    num = total_data_2019['x_train'].shape[0]\n",
    "    last_index = int(num * percent)\n",
    "    \n",
    "    gb_reg = GradientBoostingRegressor(n_estimators=20000, \n",
    "                                       max_depth=8,\n",
    "                                       learning_rate=0.005,\n",
    "                                       loss='ls',\n",
    "                                       subsample=0.7,\n",
    "                                       max_features='sqrt')\n",
    "    \n",
    "    gb_reg.fit(total_data_2019['x_train'].iloc[:last_index, :], total_data_2019['y_train'][:last_index])\n",
    "    \n",
    "    y_pred = gb_reg.predict(total_data_2019['x_test'])\n",
    "    \n",
    "    pearson_list.append(pearsonr(total_data_2019['y_test'], y_pred)[0])\n",
    "    rmse_list.append(np.sqrt(mean_squared_error(total_data_2019['y_test'], y_pred)))\n",
    "    "
   ]
  },
  {
   "cell_type": "markdown",
   "id": "b447d5da",
   "metadata": {},
   "source": [
    "5%  0.7456  1.495\n",
    "\n",
    "10% 0.7827  1.415\n",
    "\n",
    "25% 0.8310  1.291\n",
    "\n",
    "40% 0.8468  1.254\n",
    "\n",
    "55% 0.8510  1.239\n",
    "\n",
    "70% 0.8546  1.223\n",
    "\n",
    "85% 0.8542  1.219\n",
    "\n",
    "100% 0.8606 1.193"
   ]
  },
  {
   "cell_type": "code",
   "execution_count": 7,
   "id": "1ee4f397",
   "metadata": {},
   "outputs": [],
   "source": [
    "#fraction of data, rp and rmse value lists\n",
    "\n",
    "training_set_fraction = [5, 10, 25, 40, 55, 70, 85, 100]\n",
    "rp = [0.746, 0.783, 0.831, 0.847, 0.851, 0.854, 0.854, 0.861]\n",
    "rmse = [1.495, 1.415, 1.291, 1.254, 1.239, 1.223, 1.219, 1.193]"
   ]
  },
  {
   "cell_type": "code",
   "execution_count": 17,
   "id": "7e4abb71",
   "metadata": {},
   "outputs": [
    {
     "data": {
      "image/png": "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\n",
      "text/plain": [
       "<Figure size 864x432 with 2 Axes>"
      ]
     },
     "metadata": {},
     "output_type": "display_data"
    }
   ],
   "source": [
    "learning_curve_plot(rp, rmse, training_set_fraction, pre_path)"
   ]
  },
  {
   "cell_type": "markdown",
   "id": "63d730a9",
   "metadata": {},
   "source": [
    "## 2-7 Core set 2016 analysis"
   ]
  },
  {
   "cell_type": "code",
   "execution_count": 18,
   "id": "1f0ff044",
   "metadata": {},
   "outputs": [],
   "source": [
    "#Analysising 57 different cluster families of core set 2016 data."
   ]
  },
  {
   "cell_type": "code",
   "execution_count": 22,
   "id": "4212e788",
   "metadata": {},
   "outputs": [],
   "source": [
    "#Loading best model (gb_score)\n",
    "\n",
    "gb_reg = load(path_saved_model)"
   ]
  },
  {
   "cell_type": "code",
   "execution_count": 19,
   "id": "43bfe404",
   "metadata": {},
   "outputs": [],
   "source": [
    "#Loading general_set + refined set 2019 data.\n",
    "\n",
    "total_data_2019 = data_creator(path_total_set_2019_data,\n",
    "                               path_general_2019_target,\n",
    "                               path_core_set_2016_id)"
   ]
  },
  {
   "cell_type": "code",
   "execution_count": 21,
   "id": "6261a3f4",
   "metadata": {},
   "outputs": [],
   "source": [
    "#reading pdbid for each cluster of core set 2016 data.\n",
    "\n",
    "target_clusters = {}\n",
    "\n",
    "for i in range(1, 58):\n",
    "    target_clusters[i] = []\n",
    "    \n",
    "with open(path_core_set_2016_cluster) as file:\n",
    "    \n",
    "    for item in file.readlines():\n",
    "            \n",
    "        item = item.split()\n",
    "            \n",
    "        if item[0] != '#':\n",
    "\n",
    "            target_clusters[int(item[-1])].append(item[0])"
   ]
  },
  {
   "cell_type": "code",
   "execution_count": 27,
   "id": "6f518738",
   "metadata": {},
   "outputs": [],
   "source": [
    "#Calculate Rp and RMSE for each family cluster.\n",
    "\n",
    "pcc_clusters = []\n",
    "rmse_clusters = []\n",
    "\n",
    "for item in range(1, 58):\n",
    "\n",
    "    pcc_cluster, rmse_cluster = pcc_rmse_core_set_cluster(gb_reg, target_clusters[item])\n",
    "    pcc_clusters.append((item, pcc_cluster))\n",
    "    rmse_clusters.append((item, rmse_cluster))\n",
    "    \n",
    "pcc_clusters = sorted(pcc_clusters, key=lambda x: x[1], reverse=True)\n",
    "rmse_clusters = sorted(rmse_clusters, key=lambda x: x[1], reverse=False)"
   ]
  },
  {
   "cell_type": "code",
   "execution_count": 37,
   "id": "36a5e190",
   "metadata": {},
   "outputs": [
    {
     "data": {
      "image/png": "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\n",
      "text/plain": [
       "<Figure size 432x720 with 1 Axes>"
      ]
     },
     "metadata": {},
     "output_type": "display_data"
    }
   ],
   "source": [
    "bar_chart(pcc_clusters, 'autumn', '$R_{P}$', pre_path + 'pcc_bar.png')"
   ]
  },
  {
   "cell_type": "code",
   "execution_count": 39,
   "id": "ed95b6de",
   "metadata": {},
   "outputs": [
    {
     "data": {
      "image/png": "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\n",
      "text/plain": [
       "<Figure size 432x720 with 1 Axes>"
      ]
     },
     "metadata": {},
     "output_type": "display_data"
    }
   ],
   "source": [
    "bar_chart(rmse_clusters, 'summer', 'RMSE', pre_path + 'rmse_bar.png')"
   ]
  },
  {
   "cell_type": "markdown",
   "id": "f643dd74",
   "metadata": {},
   "source": [
    "## 2-8 Sub family analysis (General set 2019)"
   ]
  },
  {
   "cell_type": "code",
   "execution_count": null,
   "id": "0bbc1d18",
   "metadata": {},
   "outputs": [],
   "source": [
    "#Exclude family from general set + refined set 2019\n",
    "#and return Rp and RMSE performance for each excluded train set.\n",
    "\n",
    "def family_excl_gene(path_family):\n",
    "    \n",
    "    family_df = pd.read_csv(path_family)\n",
    "    family_id = list(f_df.iloc[1:, 1])\n",
    "    \n",
    "    total_data_2019['x_total'] = pd.concat([total_data_2019['x_train'], total_data_2019['x_test']], axis=0)\n",
    "    total_data_2019['y_total'] = pd.concat([total_data_2019['y_train'], total_data_2019['y_test']], axis=0)\n",
    "    \n",
    "    excluded_data = total_data_2019['x_total'].drop(f_id, axis=0)\n",
    "    excluded_bindng = total_data_2019['y_total'].drop(f_id, axis=0)\n",
    "    \n",
    "    sub_family_data = total_data_2019['x_total'].loc[f_id, :]\n",
    "    sub_family_binding = total_data_2019['y_total'][f_id]\n",
    "    \n",
    "    gb_reg = GradientBoostingRegressor(n_estimators=20000, \n",
    "                                   max_depth=8,\n",
    "                                   learning_rate=0.005,\n",
    "                                   loss='ls',\n",
    "                                   subsample=0.7,\n",
    "                                   max_features='sqrt')\n",
    "    \n",
    "    gb_reg.fit(excluded_data, excluded_bindng)\n",
    "    \n",
    "    y_pred = gb_reg.predict(sub_family_data)\n",
    "    \n",
    "    print(f\"Rp :{pearsonr(sub_family_binding, y_pred)[0]:.3f}\")\n",
    "    print(f\"RMSE: {np.sqrt(mean_squared_error(sub_family_binding, y_pred)):.3f}\")"
   ]
  },
  {
   "cell_type": "code",
   "execution_count": null,
   "id": "59346b5c",
   "metadata": {},
   "outputs": [],
   "source": [
    "#Calculate performance\n",
    "\n",
    "for family in [path_hiv, path_try, path_car]:\n",
    "    \n",
    "    print(family.split('/')[-1].split('.')[0])\n",
    "    \n",
    "    family_excl_gene(family)"
   ]
  },
  {
   "cell_type": "markdown",
   "id": "68428beb",
   "metadata": {},
   "source": [
    "**Results**\n",
    "\n",
    "PDBbind 2019 \n",
    "\n",
    "HIV excluded\n",
    "\n",
    "Rp : 0.655\n",
    "\n",
    "RMSE: 1.335\n",
    "\n",
    "Trypsin excluded\n",
    "\n",
    "Rp : 0.680\n",
    "\n",
    "RMSE: 1.292\n",
    "\n",
    "Carbonic anhydrase\n",
    "\n",
    "Rp : 0.673\n",
    "\n",
    "RMSE: 1.304"
   ]
  },
  {
   "cell_type": "markdown",
   "id": "3983cbac",
   "metadata": {},
   "source": [
    "## 2-9 Feature Importance"
   ]
  },
  {
   "cell_type": "code",
   "execution_count": 40,
   "id": "155138c5",
   "metadata": {},
   "outputs": [],
   "source": [
    "#Loading general_set + refined set 2019 data.\n",
    "\n",
    "total_data_2019 = data_creator(path_total_set_2019_data,\n",
    "                               path_general_2019_target,\n",
    "                               path_core_set_2016_id)"
   ]
  },
  {
   "cell_type": "code",
   "execution_count": null,
   "id": "b67f3def",
   "metadata": {},
   "outputs": [],
   "source": [
    "#Loading best model (gb_score)\n",
    "\n",
    "gb_reg = load(path_saved_model)"
   ]
  },
  {
   "cell_type": "code",
   "execution_count": 41,
   "id": "544348ff",
   "metadata": {},
   "outputs": [],
   "source": [
    "#Calculate importance for each feature.\n",
    "\n",
    "r = permutation_importance(gb_reg, total_data_2019['x_test'],\n",
    "                           total_data_2019['y_test'], \n",
    "                           n_repeats=10,\n",
    "                           random_state=42)"
   ]
  },
  {
   "cell_type": "code",
   "execution_count": 42,
   "id": "ade35fc0",
   "metadata": {},
   "outputs": [],
   "source": [
    "features_importance = {}\n",
    "feat_names = total_data_2019['x_test'].columns\n",
    "\n",
    "for n, i in enumerate(r.importances_mean.argsort()[::-1]):\n",
    "    \n",
    "    if r.importances_mean[i] - 2 * r.importances_std[i] > 0:\n",
    "        features_importance[n] = [feat_names[i],\n",
    "                                  r.importances_mean[i] * 100,\n",
    "                                  r.importances_std[i] * 100]\n",
    "        "
   ]
  },
  {
   "cell_type": "code",
   "execution_count": 43,
   "id": "d5ee8271",
   "metadata": {},
   "outputs": [],
   "source": [
    "df = pd.DataFrame(features_importance).transpose()\n",
    "df.columns = ['feat_name', 'mean', 'std']"
   ]
  },
  {
   "cell_type": "code",
   "execution_count": null,
   "id": "00dcf75c",
   "metadata": {},
   "outputs": [],
   "source": [
    "atom_types = [\"H\", \"C\", \"N\", \"O\", \"S\", \"P\", \"F\", \"Cl\", \"Br\", \"I\"]"
   ]
  },
  {
   "cell_type": "code",
   "execution_count": 44,
   "id": "78d4f3bd",
   "metadata": {},
   "outputs": [],
   "source": [
    "def group_sum_importance(df, group_index):\n",
    "    \n",
    "    sum_imp = df[df['feat_name'].str.contains(group_index)]['mean'].sum()\n",
    "    \n",
    "    print(f\"Sum of feature importance for group {group_index}: {sum_imp:.3f} %\")\n",
    "    "
   ]
  },
  {
   "cell_type": "code",
   "execution_count": 52,
   "id": "fe69dc6e",
   "metadata": {},
   "outputs": [],
   "source": [
    "def ligand_atom_sum_importance(df, element_symbol):\n",
    "    \n",
    "    sum_imp = df[df['feat_name'].apply(lambda x: x.split('_')[0]) == element_symbol]['mean'].sum()\n",
    "    \n",
    "    print(f\"Sum of feature importance for ligand's {element_symbol}: {sum_imp:.3f} %\")\n",
    "    \n",
    "    return sum_imp\n"
   ]
  },
  {
   "cell_type": "code",
   "execution_count": 50,
   "id": "2ddc79e5",
   "metadata": {},
   "outputs": [],
   "source": [
    "def protein_atom_sum_importance(df, element_symbol):\n",
    "    \n",
    "    sum_imp = df[df['feat_name'].apply(lambda x: x.split('_')[1]) == element_symbol]['mean'].sum()\n",
    "    \n",
    "    print(f\"Sum of feature importance for protein's {element_symbol}: {sum_imp:.3f} %\")\n",
    "    \n",
    "    return sum_imp\n"
   ]
  },
  {
   "cell_type": "code",
   "execution_count": 45,
   "id": "086bc7be",
   "metadata": {},
   "outputs": [
    {
     "name": "stdout",
     "output_type": "stream",
     "text": [
      "Sum of feature importance for group 1: 16.454 %\n",
      "-------------------\n",
      "Sum of feature importance for group 2: 22.456 %\n",
      "-------------------\n",
      "Sum of feature importance for group 3: 26.014 %\n",
      "-------------------\n",
      "Sum of feature importance for group 4: 0.000 %\n",
      "-------------------\n"
     ]
    }
   ],
   "source": [
    "#Different amino acid groups importances.\n",
    "\n",
    "for i in ['1', '2', '3', '4']:\n",
    "    \n",
    "    group_sum_importance(df, i)\n",
    "    print('-------------------')"
   ]
  },
  {
   "cell_type": "code",
   "execution_count": 53,
   "id": "84f02510",
   "metadata": {},
   "outputs": [
    {
     "name": "stdout",
     "output_type": "stream",
     "text": [
      "Sum of feature importance for ligand's H: 11.798 %\n",
      "--------------------------\n",
      "Sum of feature importance for ligand's C: 37.752 %\n",
      "--------------------------\n",
      "Sum of feature importance for ligand's N: 14.560 %\n",
      "--------------------------\n",
      "Sum of feature importance for ligand's O: 8.241 %\n",
      "--------------------------\n",
      "Sum of feature importance for ligand's S: 1.408 %\n",
      "--------------------------\n",
      "Sum of feature importance for ligand's P: 0.482 %\n",
      "--------------------------\n",
      "Sum of feature importance for ligand's F: 0.923 %\n",
      "--------------------------\n",
      "Sum of feature importance for ligand's Cl: 1.535 %\n",
      "--------------------------\n",
      "Sum of feature importance for ligand's Br: 0.337 %\n",
      "--------------------------\n",
      "Sum of feature importance for ligand's I: 0.000 %\n",
      "--------------------------\n"
     ]
    }
   ],
   "source": [
    "#Different ligand atom types importances.\n",
    "\n",
    "ligand_atoms_imp = []\n",
    "\n",
    "for i in atom_types:\n",
    "    \n",
    "    sum_imp = ligand_atom_sum_importance(df, i)\n",
    "    ligand_atoms_imp.append(sum_imp)\n",
    "    print('--------------------------')"
   ]
  },
  {
   "cell_type": "code",
   "execution_count": 51,
   "id": "72e42ebc",
   "metadata": {},
   "outputs": [
    {
     "name": "stdout",
     "output_type": "stream",
     "text": [
      "Sum of feature importance for protein's H: 11.885 %\n",
      "--------------------------\n",
      "Sum of feature importance for protein's C: 28.259 %\n",
      "--------------------------\n",
      "Sum of feature importance for protein's N: 16.006 %\n",
      "--------------------------\n",
      "Sum of feature importance for protein's O: 15.646 %\n",
      "--------------------------\n",
      "Sum of feature importance for protein's S: 5.241 %\n",
      "--------------------------\n",
      "Sum of feature importance for protein's P: 0.000 %\n",
      "--------------------------\n",
      "Sum of feature importance for protein's F: 0.000 %\n",
      "--------------------------\n",
      "Sum of feature importance for protein's Cl: 0.000 %\n",
      "--------------------------\n",
      "Sum of feature importance for protein's Br: 0.000 %\n",
      "--------------------------\n",
      "Sum of feature importance for protein's I: 0.000 %\n",
      "--------------------------\n"
     ]
    }
   ],
   "source": [
    "#Different protein atom types importances.\n",
    "\n",
    "protein_atoms_imp = []\n",
    "\n",
    "for i in atom_types:\n",
    "    \n",
    "    sum_imp = protein_atom_sum_importance(df, i)\n",
    "    protein_atoms_imp.append(sum_imp)\n",
    "    print('--------------------------')"
   ]
  },
  {
   "cell_type": "code",
   "execution_count": 83,
   "id": "fe8fc96a",
   "metadata": {},
   "outputs": [
    {
     "data": {
      "image/png": "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\n",
      "text/plain": [
       "<Figure size 720x576 with 1 Axes>"
      ]
     },
     "metadata": {},
     "output_type": "display_data"
    }
   ],
   "source": [
    "barchat_importance_plot(ligand_atoms_imp, \n",
    "                        protein_atoms_imp,\n",
    "                        atom_types,\n",
    "                        pre_path)"
   ]
  },
  {
   "cell_type": "markdown",
   "id": "a7ce0705",
   "metadata": {},
   "source": [
    "## 2-10 Comparison "
   ]
  },
  {
   "cell_type": "code",
   "execution_count": 40,
   "id": "7111addb",
   "metadata": {},
   "outputs": [],
   "source": [
    "#list of scoring function names and Rp values.\n",
    "\n",
    "sf_names = ['ECIF::LD-GBT', \n",
    "            'GB-Score', \n",
    "            'TopBP-DL',\n",
    "            'AGL-Score',\n",
    "            'ET-Score',\n",
    "            'EIC-Score',\n",
    "            'PoseENet',\n",
    "            '$K_{Deep}$',\n",
    "            'PLEC-nn',\n",
    "            'OnionNet',\n",
    "            '$\\Delta_{vina}RF_{20}$',\n",
    "            'RI-Score',\n",
    "            'X-Score']\n",
    "\n",
    "sf_values = [0.864, 0.862, 0.848, 0.833, 0.828, 0.828, 0.820, 0.820,\n",
    "                0.817, 0.816, 0.816, 0.815, 0.631]\n",
    "\n",
    "colors = len(sf_names) * [\"dimgrey\"]\n",
    "colors[1] = \"firebrick\""
   ]
  },
  {
   "cell_type": "code",
   "execution_count": 41,
   "id": "cfdfa4cf",
   "metadata": {},
   "outputs": [
    {
     "data": {
      "image/png": "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\n",
      "text/plain": [
       "<Figure size 864x576 with 1 Axes>"
      ]
     },
     "metadata": {},
     "output_type": "display_data"
    }
   ],
   "source": [
    "#Plot comparison plot\n",
    "\n",
    "comparison_plot(sf_names, sf_values, pre_path, colors)"
   ]
  },
  {
   "cell_type": "code",
   "execution_count": null,
   "id": "5d53a78a",
   "metadata": {},
   "outputs": [],
   "source": []
  }
 ],
 "metadata": {
  "kernelspec": {
   "display_name": "Python 3",
   "language": "python",
   "name": "python3"
  },
  "language_info": {
   "codemirror_mode": {
    "name": "ipython",
    "version": 3
   },
   "file_extension": ".py",
   "mimetype": "text/x-python",
   "name": "python",
   "nbconvert_exporter": "python",
   "pygments_lexer": "ipython3",
   "version": "3.8.8"
  }
 },
 "nbformat": 4,
 "nbformat_minor": 5
}
